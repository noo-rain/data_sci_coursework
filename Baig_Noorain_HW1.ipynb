{
 "cells": [
  {
   "cell_type": "markdown",
   "metadata": {},
   "source": [
    "<a id='top'></a>\n",
    "\n",
    "# Data Cleaning and Exploratory Data Analysis \n",
    "***\n",
    "\n",
    "**Name**: Noorain Baig\n",
    "\n",
    "***\n",
    "\n",
    "\n",
    "**NOTES**: \n",
    "\n",
    "- Any relevant data sets should be available on Canvas. To make life easier on the graders if they need to run your code, do not change the relative path names here. Instead, move the files around on your computer.\n",
    "- If you're not familiar with typesetting math directly into Markdown then by all means, do your work on paper first and then typeset it later.  Remember that there is a [reference guide](https://math.meta.stackexchange.com/questions/5020/mathjax-basic-tutorial-and-quick-reference) linked on Canvas on writing math in Markdown. **All** of your written commentary, justifications and mathematical work should be in Markdown.\n",
    "- Because you can technically evaluate notebook cells is a non-linear order, it's a good idea to do Kernel $\\rightarrow$ Restart & Run All as a check before submitting your solutions.  That way if we need to run your code you will know that it will work as expected. \n",
    "- It is **bad form** to make your reader interpret numerical output from your code.  If a question asks you to compute some value from the data you should show your code output **AND** write a summary of the results in Markdown directly below your code. \n",
    "- 95 points of this assignment are in problems.  The remaining 5 are for neatness, style, and overall exposition of both code and text.\n",
    "- This probably goes without saying, but... For any question that asks you to calculate something, you **must show all work and justify your answers to receive credit**. Sparse or nonexistent work will receive sparse or nonexistent credit. \n",
    "\n",
    "---\n",
    "**Shortcuts:**  [Problem 1](#p1) | [Problem 2](#p2) | [Problem 3](#p3) | [Problem 4](#p4) |\n",
    "---"
   ]
  },
  {
   "cell_type": "code",
   "execution_count": 1,
   "metadata": {},
   "outputs": [],
   "source": [
    "import pandas as pd\n",
    "import numpy as np\n",
    "import matplotlib.pylab as plt\n",
    "%matplotlib inline"
   ]
  },
  {
   "cell_type": "markdown",
   "metadata": {},
   "source": [
    "[Back to top](#top)\n",
    "\n",
    "<br>\n",
    "\n",
    "\n",
    "### (20 points) Problem 1: Theory (Sampling)\n",
    "***\n",
    "\n",
    "<img style=\"float: left; width: 200px; padding: 3mm;\" src=\"https://upload.wikimedia.org/wikipedia/commons/5/57/Acme_ballot_box_-_Smithsonian.jpg\" alt=\"A ballot box\"/>  \n",
    "You are the head of a news outlet on election day. You have embedded journalists in key U.S. States in order sample voters at different polling stations in the states. Once your journalists choose a polling station, they monitor the station for the election day. The journalists then report back the number of votes for each candidate, which is recorded in a special App on your phone, called Hippocampus. Overall, your team collected data from 6 polling stations in Alaska, 36 polling stations in Ohio, 12 polling stations in Colorado, 6 polling stations in Iowa, and 42 polling stations from California.\n",
    "\n",
    "You want to get a sense of the average amount of votes for each candidate per polling station, so you use the Hippocampus app to randomly choose 1 polling station in Alaska, 6 polling stations in Ohio, 2 polling stations in Colorado, 1 polling station in Iowa, and 7 polling stations from California.\n",
    "\n",
    "$$ \\quad $$\n",
    "    \n",
    "**Part A:** Identify the following: \n",
    "\n",
    "\n",
    "- the population \n",
    "- the sample frame \n",
    "- the sample \n",
    "- the type of sample \n",
    "- the quantity of interest"
   ]
  },
  {
   "cell_type": "markdown",
   "metadata": {},
   "source": [
    "**(1)** The population here is defined as the collection of units, so it would be all polling stations in the states. \n",
    "\n",
    "**(2)** The sample frame is defined as a list of all of the items in your population, so the sample frame would be 6 polling stations in Alaska, 3 polling stations in Ohio, 12 polling stations in Colorado, 6 polling stations in Iowa, and 42 polling stations from California for a total of 102 polling stations. \n",
    "\n",
    "**(3)** The sample is the subset of the population that we're gathering data from. In this case, the sample is 1 polling station in Alaska, 6 polling stations in Ohio, 2 polling stations in Colorado, 1 polling station in Iowa and 7 polling stations from California. \n",
    "\n",
    "**(4)** The type of sample is a stratified sample, because each polling group in the population has been divided by 6 and polled to be proportionate to their prevalence in the population. For example, California has the highest number of polling stations, and the randomly selected 7 polling stations (42/6), the largest in our sample, reflects that. \n",
    "\n",
    "**(5)** The quantity of interest is the average number of votes for each candidate per polling station. \n",
    "\n",
    "Source used for sample frame definition: https://www.statisticshowto.com/sampling-frame/\n"
   ]
  },
  {
   "cell_type": "markdown",
   "metadata": {},
   "source": [
    "**Part B:** You repeat your sampling, again using the Hippocampus app. Now, you order the stations alphabetically by State and choose every 3rd data value. \n",
    "    \n",
    "Identify the following: \n",
    "\n",
    "- the population \n",
    "- the sample frame \n",
    "- the sample \n",
    "- the type of sample \n",
    "- the quantity of interest"
   ]
  },
  {
   "cell_type": "markdown",
   "metadata": {},
   "source": [
    "**(1)** The population here is defined as the collection of units, so it would be all polling stations in the states. \n",
    "\n",
    "**(2)** The sample frame is defined as a list of all of the items in your population, so the sample frame would be 6 polling stations in Alaska, 3 polling stations in Ohio, 12 polling stations in Colorado, 6 polling stations in Iowa, and 42 polling stations from California for a total of 102 polling stations.\n",
    "\n",
    "**(3)** The sample is the subset of the population that we're gathering data from. In this case, the sample is every 3rd value after the stations are sorted alphabetically by state name. \n",
    "\n",
    "**(4)** The type of sample is a systematic sample, where the sample frame is ordered alphabetically, and an integer k (in this case, 3) is chosen and then every kth unit in the sample frame is sampled. \n",
    "\n",
    "**(5)** The quantity of interest is the average number of votes for each candidate per polling station.\n",
    "\n",
    "Exta notes: This type of sample is susceptible to name clustering and is not considered truly random.\n"
   ]
  },
  {
   "cell_type": "markdown",
   "metadata": {},
   "source": [
    "[Back to top](#top)\n",
    "\n",
    "<br>\n",
    "\n",
    "\n",
    "### (20 points) Problem 2: Theory and Computation (Means and Medians)\n",
    "***\n",
    "\n",
    "A method to investigate the sensitivity of the sample mean and sample median to extreme outliers and changes in the dataset is to replace one or more elements in a given dataset by a number $y$ and investigate the effect when $y$ changes. To illustrate this, consider the following dataset:\n",
    " \n",
    "$$  4.2 \\quad 5.1 \\quad 5.0 \\quad y \\quad 3.8 \\quad 4.1 \\quad 5.5 \\quad 1.9 $$\n",
    "\n",
    "\n"
   ]
  },
  {
   "cell_type": "markdown",
   "metadata": {},
   "source": [
    "**Part A:** Compute the sample mean and sample median for $y=1.5$. Then compute both quantities again for $y=6$."
   ]
  },
  {
   "cell_type": "code",
   "execution_count": 2,
   "metadata": {},
   "outputs": [
    {
     "name": "stdout",
     "output_type": "stream",
     "text": [
      "The mean when y=1.5 is     3.8875\n",
      "dtype: float64\n",
      "The median when y=1.5 is     4.15\n",
      "dtype: float64\n",
      "The mean when y=6 is     4.45\n",
      "dtype: float64\n",
      "The median when y=6 is     4.6\n",
      "dtype: float64\n"
     ]
    }
   ],
   "source": [
    "dfSample = pd.DataFrame({\"\":[4.2, 5.1, 5.0, 1.5, 3.8, 4.1, 5.5, 1.9]})\n",
    "print('The mean when y=1.5 is {}'.format(dfSample.mean()))\n",
    "print('The median when y=1.5 is {}'.format(dfSample.median()))\n",
    "\n",
    "dfSample2 = pd.DataFrame({\"\":[4.2, 5.1, 5.0, 6, 3.8, 4.1, 5.5, 1.9]})\n",
    "print('The mean when y=6 is {}'.format(dfSample2.mean()))\n",
    "print('The median when y=6 is {}'.format(dfSample2.median()))"
   ]
  },
  {
   "cell_type": "markdown",
   "metadata": {},
   "source": [
    "**When y is 1.5:**\n",
    "\n",
    "    Mean: 3.8875\n",
    "\n",
    "    Median: 4.15\n",
    "\n",
    "**When y is 6:**\n",
    "\n",
    "    Mean: 4.45\n",
    "\n",
    "    Median: 4.6"
   ]
  },
  {
   "cell_type": "markdown",
   "metadata": {},
   "source": [
    "Having a larger number in the dataset will increase both the mean and median values. The maximum value (y=6) will drive those values up, while the minimum (y=1.5) will be comparatively lower. "
   ]
  },
  {
   "cell_type": "markdown",
   "metadata": {},
   "source": [
    "**Part B:** Is there a value for $y$ that would make the mean of the data equal to 6? If so, calculate the value of $y$ that makes the mean equal to 6. If not, clearly explain why not.\n",
    "    \n",
    "Is there a value for $y$ that would make the median of the data equal to 6? If so, calculate the values of $y$ that makes the median equal to 6. If not, clearly explain why not."
   ]
  },
  {
   "cell_type": "markdown",
   "metadata": {},
   "source": [
    "**Part B Part 1:**\n",
    "\n",
    "(1) 4.2 + 5.1 + 5.0 + 3.8 + 4.1 + 5.5 + 1.9 = 29.6           add all of the numbers excluding y\n",
    "\n",
    "(2) (29.6 + y) / 8 = 6      set up the equation to calculate the mean, when the mean is 6 \n",
    "\n",
    "(3) (29.6 + y) = 48         multiply both sides by 8\n",
    "\n",
    "(4) y = 18.4                subtract 29.6 from both sides to get the value of y\n",
    "\n",
    "The value of 18.4 would make the mean of the data equal to 6. \n",
    "\n",
    "\n",
    "**Part B Part 2:**\n",
    "\n",
    "There is no way to make the median of the data equal to 6, because the variables in numerical order look like this: \n",
    "1.9, 3.8, 4.1, 4.2, 5.0, 5.1, 5.5\n",
    "\n",
    "A large y value would just get eliminated first, while a middle one wouldn't help the median become higher. Because this is a dataset with an even number of data points (including y), the median will always be the average of the two middle numbers. You can never have a middle number high enough that would make the median 6. \n"
   ]
  },
  {
   "cell_type": "markdown",
   "metadata": {},
   "source": [
    "**Part C**: Compute the sample variance and the sample standard deviation for the original dataset given in part A, with $y=6$."
   ]
  },
  {
   "cell_type": "code",
   "execution_count": 3,
   "metadata": {},
   "outputs": [
    {
     "name": "stdout",
     "output_type": "stream",
     "text": [
      "The sample variance is     1.62\n",
      "dtype: float64\n",
      "The sample standard deviation is     1.272792\n",
      "dtype: float64\n"
     ]
    }
   ],
   "source": [
    "dfSample2 = pd.DataFrame({\"\":[4.2, 5.1, 5.0, 6, 3.8, 4.1, 5.5, 1.9]})\n",
    "print('The sample variance is {}'.format(np.var(dfSample2, ddof=1)))\n",
    "\n",
    "#square root of the variance\n",
    "#same units as sample\n",
    "print('The sample standard deviation is {}'.format(np.std(dfSample2, ddof=1)))\n",
    "\n",
    "#source used: https://mathbitsnotebook.com/Algebra1/StatisticsData/STSD.html"
   ]
  },
  {
   "cell_type": "markdown",
   "metadata": {},
   "source": [
    "The sample variance is for the original dataset is 1.4175.\n",
    "\n",
    "The sample deviation is for the original dataset is  1.272792."
   ]
  },
  {
   "cell_type": "markdown",
   "metadata": {},
   "source": [
    "**Extra Notes:** The sample variance is used to calculate how varied a sample is. It is the average of squared differences from the mean. To calculate it, we'll first calculate the mean of the sample, then subtract the mean from each datapoint and square the results. We'll then add up those results and divide by however many datapoints there were. Variance doesn't contain the same units as the data, while standard deviation does. Standard deviation will show how much variation from the mean there is in the sample, in the same units that the data is in (which is why it's just the square of the sample variance). A low standard deviation means the data points are close to the mean. "
   ]
  },
  {
   "cell_type": "markdown",
   "metadata": {},
   "source": [
    "**Part D**: Compute the sample median for the following cases: \n",
    "- $y=5$ \n",
    "- $y=50$ \n",
    "- $y=4.36$ \n",
    "- $y \\to \\infty$ \n",
    "- $y \\to -\\infty$"
   ]
  },
  {
   "cell_type": "code",
   "execution_count": 4,
   "metadata": {},
   "outputs": [
    {
     "name": "stdout",
     "output_type": "stream",
     "text": [
      "The median when y=5 is     4.6\n",
      "dtype: float64\n",
      "\n",
      "The median when y=50 is     4.6\n",
      "dtype: float64\n",
      "\n",
      "The median when y=4.36 is     4.28\n",
      "dtype: float64\n",
      "\n",
      "The median when y= infinity is     4.6\n",
      "dtype: float64\n",
      "\n",
      "The median when y= negative infinity is     4.15\n",
      "dtype: float64\n"
     ]
    }
   ],
   "source": [
    "#when y is 5\n",
    "dfSample2 = pd.DataFrame({\"\":[4.2, 5.1, 5.0, 5, 3.8, 4.1, 5.5, 1.9]})\n",
    "print('The median when y=5 is {}'.format(dfSample2.median()))\n",
    "print()\n",
    "#when y is 50\n",
    "dfSample2 = pd.DataFrame({\"\":[4.2, 5.1, 5.0, 50, 3.8, 4.1, 5.5, 1.9]})\n",
    "print('The median when y=50 is {}'.format(dfSample2.median()))\n",
    "print()\n",
    "#when y is 4.36\n",
    "dfSample2 = pd.DataFrame({\"\":[4.2, 5.1, 5.0, 4.36, 3.8, 4.1, 5.5, 1.9]})\n",
    "print('The median when y=4.36 is {}'.format(dfSample2.median()))\n",
    "print()\n",
    "#when y is headed towards infinity\n",
    "dfSample2 = pd.DataFrame({\"\":[4.2, 5.1, 5.0, float('inf'), 3.8, 4.1, 5.5, 1.9]})\n",
    "print('The median when y= infinity is {}'.format(dfSample2.median()))\n",
    "print()\n",
    "#when y is headed towards negative infinity\n",
    "dfSample2 = pd.DataFrame({\"\":[4.2, 5.1, 5.0, float('-inf'), 3.8, 4.1, 5.5, 1.9]})\n",
    "print('The median when y= negative infinity is {}'.format(dfSample2.median()))\n",
    "\n",
    "#Used this as a reference, linked by someone on Piazza: https://www.geeksforgeeks.org/python-infinity/"
   ]
  },
  {
   "cell_type": "markdown",
   "metadata": {},
   "source": [
    "- The median when y is equal to 5: 4.6\n",
    "\n",
    "- The median when y is equal to 50: 4.6\n",
    "\n",
    "- The median when y is equal to 4.36: 4.28\n",
    "\n",
    "- The median when y is headed towards infinity: 4.6\n",
    "\n",
    "- The median when y is headed towards negative infinity: 4.15"
   ]
  },
  {
   "cell_type": "markdown",
   "metadata": {},
   "source": [
    "**Part E**: Think about the previous parts, above, and describe in words or mathematical notation the answers to the following two questions:\n",
    "\n",
    "- By varying $y$, what is the set of all the possible values that the sample mean could take on?\n",
    "- By varying $y$, what is the set of all the possible values that the sample median could take on? Specifically, for what sets of $y$ values does the median take on its different possible values?"
   ]
  },
  {
   "cell_type": "markdown",
   "metadata": {},
   "source": [
    "- The set of all the possible values that the sample mean could take on would be -infinity to infinity. Since the mean relies on the data values being added up and then divided by the number of data values, having higher numbers will result in a higher mean. In varying y, the range of the mean is -inf to inf since those are the maximum and minimum for y. When y is going towards infinity or negative infinity, the sum of all of the data points is going to be either infinity or negative infinity. Infinity divided by any natural number will be infinity.\n",
    "\n",
    "\n",
    "- The set of all the possible values that the sample median could take on would be [4.15 to 4.6] because as y varies from infinity to negative infinity, the resulting median is those values. The median would be most affected by values closest to the middle of the dataset. Since the maximum and minimum values for y are infinity and negative infinity, the resulting medians cannot be larger or smaller than [4.15 to 4.6]."
   ]
  },
  {
   "cell_type": "markdown",
   "metadata": {},
   "source": [
    "**Part F**: Describe in words or mathematical notation, what happens to the sample standard deviation when $y$ is varied in the following ways: \n",
    " \n",
    "- $y \\to \\infty$ \n",
    "- $y \\to \\bar{x}$"
   ]
  },
  {
   "cell_type": "markdown",
   "metadata": {},
   "source": [
    "- The standard deviation would increase since the values are spread out over a higher range, resulting in a larger amount of variation. The sample standard deviation will increase and head towards infinity as y heads towards infinity due to this larger amount of variation. \n",
    "\n",
    "\n",
    "- X is the mean of the whole set. If y is headed towards the mean, then there will be less variance because the values will be closer and closer to the mean, which will lower the variance and the sample standard deviation will get closer to 1. "
   ]
  },
  {
   "cell_type": "markdown",
   "metadata": {},
   "source": [
    "[Back to top](#top)\n",
    "<a/ id='p6'></a>\n",
    "\n",
    "## (20 pts) Problem 3: Computation (Scaling)\n",
    "***\n",
    "Consider the following 3 data sets:\n",
    "\n",
    "`A=[0,1,2,3,4,5,6,7,8,9,10,11,12]`\n",
    "\n",
    "`B=[0,0,0,12,7,18,47,25,0,13,0,35]`\n",
    "\n",
    "`C` is the random data set generated by using `np.random.exponential(scale=43, size=1000)`\n",
    "\n",
    "For each data set, perform the following computations in parts A, B, and C:\n",
    "\n",
    "**Part A:** Compute and print the mean and standard deviation of the data set."
   ]
  },
  {
   "cell_type": "code",
   "execution_count": 5,
   "metadata": {},
   "outputs": [
    {
     "name": "stdout",
     "output_type": "stream",
     "text": [
      "The mean for Dataset A is     6.0\n",
      "dtype: float64\n",
      "The standard deviation for Dataset A is     3.89444\n",
      "dtype: float64\n",
      "\n",
      "The mean for Dataset B is     13.083333\n",
      "dtype: float64\n",
      "The standard deviation for Dataset B is     15.640613\n",
      "dtype: float64\n",
      "\n",
      "The mean for Dataset C is 42.19657170241957\n",
      "The standard deviation for Dataset C is 41.77890048921233\n"
     ]
    }
   ],
   "source": [
    "#for dataset A:\n",
    "dfSetA = pd.DataFrame({\"\":[0,1,2,3,4,5,6,7,8,9,10,11,12]})\n",
    "A_mean = dfSetA.mean()\n",
    "sd_A = np.std(dfSetA, ddof=1)\n",
    "print('The mean for Dataset A is {}'.format(A_mean))\n",
    "print('The standard deviation for Dataset A is {}'.format(sd_A))\n",
    "print()\n",
    "#for dataset B\n",
    "dfSetB = pd.DataFrame({\"\":[0,0,0,12,7,18,47,25,0,13,0,35]})\n",
    "B_mean = dfSetB.mean()\n",
    "sd_B = np.std(dfSetB, ddof=1)\n",
    "print('The mean for Dataset B is {}'.format(B_mean))\n",
    "print('The standard deviation for Dataset B is {}'.format(sd_B))\n",
    "print()\n",
    "#for dataset C\n",
    "dfSetC = np.random.exponential(scale=43, size=1000)\n",
    "C_mean = dfSetC.mean()\n",
    "sd_C = np.std(dfSetC, ddof=1)\n",
    "print('The mean for Dataset C is {}'.format(C_mean))\n",
    "print('The standard deviation for Dataset C is {}'.format(sd_C))"
   ]
  },
  {
   "cell_type": "markdown",
   "metadata": {},
   "source": [
    "**For Dataset A:**\n",
    "- Mean: 6.0\n",
    "- Standard Deviation: 3.89444\n",
    "\n",
    "**For Dataset B:**\n",
    "- Mean: 13.083333\n",
    "- Standard Deviation: 15.640613\n",
    "    \n",
    "**For Dataset C:**\n",
    "- Mean: 42.19657170241957\n",
    "- Standard Deviation: 41.77890048921233"
   ]
  },
  {
   "cell_type": "markdown",
   "metadata": {},
   "source": [
    "**Part B:** Compute and print  the mean and standard deviation of the new data set formed by subtracting the original mean from each observation."
   ]
  },
  {
   "cell_type": "code",
   "execution_count": 6,
   "metadata": {},
   "outputs": [
    {
     "name": "stdout",
     "output_type": "stream",
     "text": [
      "The mean for the new Dataset A is     0.0\n",
      "dtype: float64\n",
      "The standard deviation for the new Dataset A is     3.89444\n",
      "dtype: float64\n",
      "\n",
      "The mean for the new Dataset B is    -1.184238e-15\n",
      "dtype: float64\n",
      "The standard deviation for the new Dataset B is     15.640613\n",
      "dtype: float64\n",
      "\n",
      "The mean for the new Dataset C is -3.922195901395753e-15\n",
      "The standard deviation for the new Dataset C is 41.77890048921233\n"
     ]
    }
   ],
   "source": [
    "#for Dataset A\n",
    "dfNewSetA = dfSetA - A_mean\n",
    "print('The mean for the new Dataset A is {}'.format(dfNewSetA.mean()))\n",
    "print('The standard deviation for the new Dataset A is {}'.format(np.std(dfNewSetA, ddof=1)))\n",
    "print()\n",
    "#for Dataset B\n",
    "dfNewSetB = dfSetB - B_mean\n",
    "print('The mean for the new Dataset B is {}'.format(dfNewSetB.mean()))\n",
    "print('The standard deviation for the new Dataset B is {}'.format(np.std(dfNewSetB, ddof=1)))\n",
    "print()\n",
    "#for Dataset C\n",
    "dfNewSetC = dfSetC - C_mean\n",
    "print('The mean for the new Dataset C is {}'.format(dfNewSetC.mean()))\n",
    "print('The standard deviation for the new Dataset C is {}'.format(np.std(dfNewSetC, ddof=1)))\n"
   ]
  },
  {
   "cell_type": "markdown",
   "metadata": {},
   "source": [
    "**For Dataset A:**\n",
    "- Mean: 0.0\n",
    "- Standard Deviation:  3.89444\n",
    "\n",
    "**For Dataset B:**\n",
    "- Mean:  -1.184238e-15\n",
    "- Standard Deviation: 15.640613\n",
    "    \n",
    "**For Dataset C:**\n",
    "- Mean: -3.922195901395753e-15\n",
    "- Standard Deviation: 41.77890048921233"
   ]
  },
  {
   "cell_type": "markdown",
   "metadata": {},
   "source": [
    "**Part C:** Compute and print  the mean and standard deviation of the new data set formed by subtracting the original mean from each observation and then dividing by the original standard deviation."
   ]
  },
  {
   "cell_type": "code",
   "execution_count": 7,
   "metadata": {},
   "outputs": [
    {
     "name": "stdout",
     "output_type": "stream",
     "text": [
      "The mean for the this Dataset A is    -5.124106e-17\n",
      "dtype: float64\n",
      "The standard deviation for the this Dataset A is     1.0\n",
      "dtype: float64\n",
      "\n",
      "The mean for the this Dataset B is    -1.850372e-17\n",
      "dtype: float64\n",
      "The standard deviation for the this Dataset B is     1.0\n",
      "dtype: float64\n",
      "\n",
      "The mean for the this Dataset C is -1.0658141036401502e-16\n",
      "The standard deviation for the this Dataset B is 0.9999999999999999\n"
     ]
    }
   ],
   "source": [
    "#for dataset A\n",
    "final_dA = dfNewSetA / sd_A\n",
    "print('The mean for the this Dataset A is {}'.format(final_dA.mean()))\n",
    "print('The standard deviation for the this Dataset A is {}'.format(np.std(final_dA, ddof=1)))\n",
    "print()\n",
    "#for dataset B\n",
    "final_dB = dfNewSetB / sd_B\n",
    "print('The mean for the this Dataset B is {}'.format(final_dB.mean()))\n",
    "print('The standard deviation for the this Dataset B is {}'.format(np.std(final_dB, ddof=1)))\n",
    "print()\n",
    "#for dataset C\n",
    "final_dC = dfNewSetC / sd_C\n",
    "print('The mean for the this Dataset C is {}'.format(final_dC.mean()))\n",
    "print('The standard deviation for the this Dataset B is {}'.format(np.std(final_dC, ddof=1)))"
   ]
  },
  {
   "cell_type": "markdown",
   "metadata": {},
   "source": [
    "**For Dataset A:**\n",
    "- Mean: -5.124106e-17\n",
    "- Standard Deviation:  1.0\n",
    "\n",
    "**For Dataset B:**\n",
    "- Mean:   -1.850372e-17\n",
    "- Standard Deviation: 1.0\n",
    "    \n",
    "**For Dataset C:**\n",
    "- Mean: -1.0658141036401502e-16\n",
    "- Standard Deviation: 0.99 ≈ 1.0"
   ]
  },
  {
   "cell_type": "markdown",
   "metadata": {},
   "source": [
    "**Part D:** Why might this result matter?"
   ]
  },
  {
   "cell_type": "markdown",
   "metadata": {},
   "source": [
    "A standard deviation of 1 means that the values in the dataset are very close together. This is a standard normal distribution, which has a mean of 0 and a standard deviation of 1. For a standard normal distribution, 95% of the data points lie within 2 standard deviations of the mean. \n",
    "\n",
    "Reference for standard normal distribution: https://sphweb.bumc.bu.edu/otlt/MPH-Modules/BS/BS704_Probability/BS704_Probability9.html"
   ]
  },
  {
   "cell_type": "markdown",
   "metadata": {},
   "source": [
    "**Part E:** Looking at each of the 3 data sets, come up with a real-world context where those kind of numbers might make for reasonable observations."
   ]
  },
  {
   "cell_type": "markdown",
   "metadata": {},
   "source": [
    "- For Dataset A, this could be representative of asking a collection of students for their grade levels at a school that goes from kindergarden to 12th grade.\n",
    "- For Dataset B, this could represent how much money people in college spend on lunch every week (which would be 0 if you packed lunch from home and it could also explain why the amounts wouldn't be for someone going out to lunch every single day). \n",
    "- Dataset C could represent grade averages for a particularly difficult electrical engineering class that also has a ridiculously large amount of people taking it. Perhaps this could be for a course like Circuits and its course equivalent at many different colleges.  "
   ]
  },
  {
   "cell_type": "markdown",
   "metadata": {},
   "source": [
    "[Back to top](#top)\n",
    "<a/ id='p4'></a>\n",
    "\n",
    "## (35 pts) Problem 4: Data (monthly patterns)\n",
    "***\n",
    "\n",
    "NOAA's Physical Sciences division (https://www.esrl.noaa.gov/psd) houses an enormous amount of weather data.  Load `BoulderPrecip.csv` from the course page for the last 120 years of monthly precipitation data from Boulder.  Let's take a look!"
   ]
  },
  {
   "cell_type": "code",
   "execution_count": 20,
   "metadata": {},
   "outputs": [
    {
     "data": {
      "text/html": [
       "<div>\n",
       "<style scoped>\n",
       "    .dataframe tbody tr th:only-of-type {\n",
       "        vertical-align: middle;\n",
       "    }\n",
       "\n",
       "    .dataframe tbody tr th {\n",
       "        vertical-align: top;\n",
       "    }\n",
       "\n",
       "    .dataframe thead th {\n",
       "        text-align: right;\n",
       "    }\n",
       "</style>\n",
       "<table border=\"1\" class=\"dataframe\">\n",
       "  <thead>\n",
       "    <tr style=\"text-align: right;\">\n",
       "      <th></th>\n",
       "      <th>Year</th>\n",
       "      <th>JAN</th>\n",
       "      <th>FEB</th>\n",
       "      <th>MAR</th>\n",
       "      <th>APR</th>\n",
       "      <th>MAY</th>\n",
       "      <th>JUN</th>\n",
       "      <th>JUL</th>\n",
       "      <th>AUG</th>\n",
       "      <th>SEP</th>\n",
       "      <th>OCT</th>\n",
       "      <th>NOV</th>\n",
       "      <th>DEC</th>\n",
       "      <th>YEAR TOTAL</th>\n",
       "    </tr>\n",
       "  </thead>\n",
       "  <tbody>\n",
       "    <tr>\n",
       "      <th>0</th>\n",
       "      <td>1900</td>\n",
       "      <td>0.4</td>\n",
       "      <td>1.06</td>\n",
       "      <td>0.75</td>\n",
       "      <td>9.18</td>\n",
       "      <td>1.84</td>\n",
       "      <td>0.49</td>\n",
       "      <td>0.48</td>\n",
       "      <td>0.22</td>\n",
       "      <td>1.54</td>\n",
       "      <td>0.13</td>\n",
       "      <td>0.19</td>\n",
       "      <td>0.61</td>\n",
       "      <td>16.89</td>\n",
       "    </tr>\n",
       "    <tr>\n",
       "      <th>1</th>\n",
       "      <td>1901</td>\n",
       "      <td>0.53</td>\n",
       "      <td>0.3</td>\n",
       "      <td>1.74</td>\n",
       "      <td>3.51</td>\n",
       "      <td>1.62</td>\n",
       "      <td>1.76</td>\n",
       "      <td>0.46</td>\n",
       "      <td>1.69</td>\n",
       "      <td>0.16</td>\n",
       "      <td>0.65</td>\n",
       "      <td>Tr</td>\n",
       "      <td>1.43</td>\n",
       "      <td>13.85</td>\n",
       "    </tr>\n",
       "    <tr>\n",
       "      <th>2</th>\n",
       "      <td>1902</td>\n",
       "      <td>0.37</td>\n",
       "      <td>0.48</td>\n",
       "      <td>1.48</td>\n",
       "      <td>1.01</td>\n",
       "      <td>2.32</td>\n",
       "      <td>1.46</td>\n",
       "      <td>1.26</td>\n",
       "      <td>0.53</td>\n",
       "      <td>5.46</td>\n",
       "      <td>1.44</td>\n",
       "      <td>1.29</td>\n",
       "      <td>1.34</td>\n",
       "      <td>18.44</td>\n",
       "    </tr>\n",
       "    <tr>\n",
       "      <th>3</th>\n",
       "      <td>1903</td>\n",
       "      <td>0.08</td>\n",
       "      <td>1.52</td>\n",
       "      <td>1.45</td>\n",
       "      <td>2.31</td>\n",
       "      <td>2.02</td>\n",
       "      <td>1.87</td>\n",
       "      <td>0.95</td>\n",
       "      <td>1.46</td>\n",
       "      <td>1.31</td>\n",
       "      <td>3.43</td>\n",
       "      <td>0.15</td>\n",
       "      <td>0.16</td>\n",
       "      <td>16.71</td>\n",
       "    </tr>\n",
       "    <tr>\n",
       "      <th>4</th>\n",
       "      <td>1904</td>\n",
       "      <td>0.09</td>\n",
       "      <td>0.31</td>\n",
       "      <td>2.37</td>\n",
       "      <td>1.45</td>\n",
       "      <td>5.35</td>\n",
       "      <td>2.72</td>\n",
       "      <td>1.05</td>\n",
       "      <td>1.00</td>\n",
       "      <td>1.6</td>\n",
       "      <td>1.06</td>\n",
       "      <td>0.08</td>\n",
       "      <td>0.7</td>\n",
       "      <td>17.78</td>\n",
       "    </tr>\n",
       "  </tbody>\n",
       "</table>\n",
       "</div>"
      ],
      "text/plain": [
       "   Year   JAN   FEB   MAR   APR   MAY   JUN   JUL   AUG   SEP   OCT   NOV  \\\n",
       "0  1900   0.4  1.06  0.75  9.18  1.84  0.49  0.48  0.22  1.54  0.13  0.19   \n",
       "1  1901  0.53   0.3  1.74  3.51  1.62  1.76  0.46  1.69  0.16  0.65    Tr   \n",
       "2  1902  0.37  0.48  1.48  1.01  2.32  1.46  1.26  0.53  5.46  1.44  1.29   \n",
       "3  1903  0.08  1.52  1.45  2.31  2.02  1.87  0.95  1.46  1.31  3.43  0.15   \n",
       "4  1904  0.09  0.31  2.37  1.45  5.35  2.72  1.05  1.00   1.6  1.06  0.08   \n",
       "\n",
       "    DEC YEAR TOTAL  \n",
       "0  0.61      16.89  \n",
       "1  1.43      13.85  \n",
       "2  1.34      18.44  \n",
       "3  0.16      16.71  \n",
       "4   0.7      17.78  "
      ]
     },
     "execution_count": 20,
     "metadata": {},
     "output_type": "execute_result"
    }
   ],
   "source": [
    "dfPrecip = pd.read_csv('BoulderPrecip.csv')\n",
    "dfPrecip.head()"
   ]
  },
  {
   "cell_type": "markdown",
   "metadata": {},
   "source": [
    "**Part A:** SCRUBBING!  Our data set is going to be tough to use for a few reasons.\n",
    "\n",
    "1) When the amount of precipitation was nonzero but too small to be recorded, this data set recorded `tr`.  Replace these with zeroes.\n",
    "\n",
    "2) 2020 isn't over yet!  We have one row at the bottom that isn't fully complete and NA values have been filled into the months that haven't happened yet.  This can wreak havoc on a lot of our methods!  Drop the 2020 data entirely.\n",
    "\n",
    "3) You may have some object typing issues relating to columns that contained both \"Tr\"/\"NA\" and numeric values.  Ensure that Python is treating all of your data as numeric!"
   ]
  },
  {
   "cell_type": "code",
   "execution_count": 21,
   "metadata": {},
   "outputs": [
    {
     "data": {
      "text/html": [
       "<div>\n",
       "<style scoped>\n",
       "    .dataframe tbody tr th:only-of-type {\n",
       "        vertical-align: middle;\n",
       "    }\n",
       "\n",
       "    .dataframe tbody tr th {\n",
       "        vertical-align: top;\n",
       "    }\n",
       "\n",
       "    .dataframe thead th {\n",
       "        text-align: right;\n",
       "    }\n",
       "</style>\n",
       "<table border=\"1\" class=\"dataframe\">\n",
       "  <thead>\n",
       "    <tr style=\"text-align: right;\">\n",
       "      <th></th>\n",
       "      <th>Year</th>\n",
       "      <th>JAN</th>\n",
       "      <th>FEB</th>\n",
       "      <th>MAR</th>\n",
       "      <th>APR</th>\n",
       "      <th>MAY</th>\n",
       "      <th>JUN</th>\n",
       "      <th>JUL</th>\n",
       "      <th>AUG</th>\n",
       "      <th>SEP</th>\n",
       "      <th>OCT</th>\n",
       "      <th>NOV</th>\n",
       "      <th>DEC</th>\n",
       "      <th>YEAR TOTAL</th>\n",
       "    </tr>\n",
       "  </thead>\n",
       "  <tbody>\n",
       "    <tr>\n",
       "      <th>0</th>\n",
       "      <td>1900</td>\n",
       "      <td>0.4</td>\n",
       "      <td>1.06</td>\n",
       "      <td>0.75</td>\n",
       "      <td>9.18</td>\n",
       "      <td>1.84</td>\n",
       "      <td>0.49</td>\n",
       "      <td>0.48</td>\n",
       "      <td>0.22</td>\n",
       "      <td>1.54</td>\n",
       "      <td>0.13</td>\n",
       "      <td>0.19</td>\n",
       "      <td>0.61</td>\n",
       "      <td>16.89</td>\n",
       "    </tr>\n",
       "    <tr>\n",
       "      <th>1</th>\n",
       "      <td>1901</td>\n",
       "      <td>0.53</td>\n",
       "      <td>0.3</td>\n",
       "      <td>1.74</td>\n",
       "      <td>3.51</td>\n",
       "      <td>1.62</td>\n",
       "      <td>1.76</td>\n",
       "      <td>0.46</td>\n",
       "      <td>1.69</td>\n",
       "      <td>0.16</td>\n",
       "      <td>0.65</td>\n",
       "      <td>0</td>\n",
       "      <td>1.43</td>\n",
       "      <td>13.85</td>\n",
       "    </tr>\n",
       "    <tr>\n",
       "      <th>2</th>\n",
       "      <td>1902</td>\n",
       "      <td>0.37</td>\n",
       "      <td>0.48</td>\n",
       "      <td>1.48</td>\n",
       "      <td>1.01</td>\n",
       "      <td>2.32</td>\n",
       "      <td>1.46</td>\n",
       "      <td>1.26</td>\n",
       "      <td>0.53</td>\n",
       "      <td>5.46</td>\n",
       "      <td>1.44</td>\n",
       "      <td>1.29</td>\n",
       "      <td>1.34</td>\n",
       "      <td>18.44</td>\n",
       "    </tr>\n",
       "    <tr>\n",
       "      <th>3</th>\n",
       "      <td>1903</td>\n",
       "      <td>0.08</td>\n",
       "      <td>1.52</td>\n",
       "      <td>1.45</td>\n",
       "      <td>2.31</td>\n",
       "      <td>2.02</td>\n",
       "      <td>1.87</td>\n",
       "      <td>0.95</td>\n",
       "      <td>1.46</td>\n",
       "      <td>1.31</td>\n",
       "      <td>3.43</td>\n",
       "      <td>0.15</td>\n",
       "      <td>0.16</td>\n",
       "      <td>16.71</td>\n",
       "    </tr>\n",
       "    <tr>\n",
       "      <th>4</th>\n",
       "      <td>1904</td>\n",
       "      <td>0.09</td>\n",
       "      <td>0.31</td>\n",
       "      <td>2.37</td>\n",
       "      <td>1.45</td>\n",
       "      <td>5.35</td>\n",
       "      <td>2.72</td>\n",
       "      <td>1.05</td>\n",
       "      <td>1.00</td>\n",
       "      <td>1.6</td>\n",
       "      <td>1.06</td>\n",
       "      <td>0.08</td>\n",
       "      <td>0.7</td>\n",
       "      <td>17.78</td>\n",
       "    </tr>\n",
       "  </tbody>\n",
       "</table>\n",
       "</div>"
      ],
      "text/plain": [
       "   Year   JAN   FEB   MAR   APR   MAY   JUN   JUL   AUG   SEP   OCT   NOV  \\\n",
       "0  1900   0.4  1.06  0.75  9.18  1.84  0.49  0.48  0.22  1.54  0.13  0.19   \n",
       "1  1901  0.53   0.3  1.74  3.51  1.62  1.76  0.46  1.69  0.16  0.65     0   \n",
       "2  1902  0.37  0.48  1.48  1.01  2.32  1.46  1.26  0.53  5.46  1.44  1.29   \n",
       "3  1903  0.08  1.52  1.45  2.31  2.02  1.87  0.95  1.46  1.31  3.43  0.15   \n",
       "4  1904  0.09  0.31  2.37  1.45  5.35  2.72  1.05  1.00   1.6  1.06  0.08   \n",
       "\n",
       "    DEC YEAR TOTAL  \n",
       "0  0.61      16.89  \n",
       "1  1.43      13.85  \n",
       "2  1.34      18.44  \n",
       "3  0.16      16.71  \n",
       "4   0.7      17.78  "
      ]
     },
     "execution_count": 21,
     "metadata": {},
     "output_type": "execute_result"
    }
   ],
   "source": [
    "dfPrecip = dfPrecip.replace(to_replace = \"Tr\", value = 0.0)\n",
    "dfPrecip.head()"
   ]
  },
  {
   "cell_type": "code",
   "execution_count": 10,
   "metadata": {},
   "outputs": [
    {
     "data": {
      "text/html": [
       "<div>\n",
       "<style scoped>\n",
       "    .dataframe tbody tr th:only-of-type {\n",
       "        vertical-align: middle;\n",
       "    }\n",
       "\n",
       "    .dataframe tbody tr th {\n",
       "        vertical-align: top;\n",
       "    }\n",
       "\n",
       "    .dataframe thead th {\n",
       "        text-align: right;\n",
       "    }\n",
       "</style>\n",
       "<table border=\"1\" class=\"dataframe\">\n",
       "  <thead>\n",
       "    <tr style=\"text-align: right;\">\n",
       "      <th></th>\n",
       "      <th>Year</th>\n",
       "      <th>JAN</th>\n",
       "      <th>FEB</th>\n",
       "      <th>MAR</th>\n",
       "      <th>APR</th>\n",
       "      <th>MAY</th>\n",
       "      <th>JUN</th>\n",
       "      <th>JUL</th>\n",
       "      <th>AUG</th>\n",
       "      <th>SEP</th>\n",
       "      <th>OCT</th>\n",
       "      <th>NOV</th>\n",
       "      <th>DEC</th>\n",
       "      <th>YEAR TOTAL</th>\n",
       "    </tr>\n",
       "  </thead>\n",
       "  <tbody>\n",
       "    <tr>\n",
       "      <th>115</th>\n",
       "      <td>2015</td>\n",
       "      <td>0.38</td>\n",
       "      <td>3.69</td>\n",
       "      <td>0.38</td>\n",
       "      <td>4.50</td>\n",
       "      <td>7.82</td>\n",
       "      <td>1.76</td>\n",
       "      <td>2.98</td>\n",
       "      <td>0.31</td>\n",
       "      <td>0.14</td>\n",
       "      <td>2.02</td>\n",
       "      <td>1.83</td>\n",
       "      <td>1.11</td>\n",
       "      <td>27.39</td>\n",
       "    </tr>\n",
       "    <tr>\n",
       "      <th>116</th>\n",
       "      <td>2016</td>\n",
       "      <td>0.37</td>\n",
       "      <td>1.44</td>\n",
       "      <td>3.84</td>\n",
       "      <td>3.34</td>\n",
       "      <td>2.01</td>\n",
       "      <td>2.37</td>\n",
       "      <td>0.61</td>\n",
       "      <td>1.06</td>\n",
       "      <td>0.45</td>\n",
       "      <td>0.38</td>\n",
       "      <td>0.47</td>\n",
       "      <td>0.91</td>\n",
       "      <td>17.25</td>\n",
       "    </tr>\n",
       "    <tr>\n",
       "      <th>117</th>\n",
       "      <td>2017</td>\n",
       "      <td>1.41</td>\n",
       "      <td>0.73</td>\n",
       "      <td>1.45</td>\n",
       "      <td>3.15</td>\n",
       "      <td>6.29</td>\n",
       "      <td>0.45</td>\n",
       "      <td>1.30</td>\n",
       "      <td>1.62</td>\n",
       "      <td>1.92</td>\n",
       "      <td>2.42</td>\n",
       "      <td>0.57</td>\n",
       "      <td>0.68</td>\n",
       "      <td>21.89</td>\n",
       "    </tr>\n",
       "    <tr>\n",
       "      <th>118</th>\n",
       "      <td>2018</td>\n",
       "      <td>0.74</td>\n",
       "      <td>1.04</td>\n",
       "      <td>2.23</td>\n",
       "      <td>1.35</td>\n",
       "      <td>4.76</td>\n",
       "      <td>1.82</td>\n",
       "      <td>1.84</td>\n",
       "      <td>0.24</td>\n",
       "      <td>1.02</td>\n",
       "      <td>2.68</td>\n",
       "      <td>1.19</td>\n",
       "      <td>0.34</td>\n",
       "      <td>19.01</td>\n",
       "    </tr>\n",
       "    <tr>\n",
       "      <th>119</th>\n",
       "      <td>2019</td>\n",
       "      <td>1.57</td>\n",
       "      <td>0.74</td>\n",
       "      <td>2.83</td>\n",
       "      <td>1.87</td>\n",
       "      <td>3.89</td>\n",
       "      <td>2.12</td>\n",
       "      <td>2.21</td>\n",
       "      <td>0.10</td>\n",
       "      <td>0.56</td>\n",
       "      <td>2.42</td>\n",
       "      <td>2.38</td>\n",
       "      <td>0.35</td>\n",
       "      <td>21.04</td>\n",
       "    </tr>\n",
       "  </tbody>\n",
       "</table>\n",
       "</div>"
      ],
      "text/plain": [
       "     Year   JAN   FEB   MAR   APR   MAY   JUN   JUL   AUG   SEP   OCT   NOV  \\\n",
       "115  2015  0.38  3.69  0.38  4.50  7.82  1.76  2.98  0.31  0.14  2.02  1.83   \n",
       "116  2016  0.37  1.44  3.84  3.34  2.01  2.37  0.61  1.06  0.45  0.38  0.47   \n",
       "117  2017  1.41  0.73  1.45  3.15  6.29  0.45  1.30  1.62  1.92  2.42  0.57   \n",
       "118  2018  0.74  1.04  2.23  1.35  4.76  1.82  1.84  0.24  1.02  2.68  1.19   \n",
       "119  2019  1.57  0.74  2.83  1.87  3.89  2.12  2.21  0.10  0.56  2.42  2.38   \n",
       "\n",
       "      DEC YEAR TOTAL  \n",
       "115  1.11      27.39  \n",
       "116  0.91      17.25  \n",
       "117  0.68      21.89  \n",
       "118  0.34      19.01  \n",
       "119  0.35     21.04   "
      ]
     },
     "execution_count": 10,
     "metadata": {},
     "output_type": "execute_result"
    }
   ],
   "source": [
    "dfPrecip = dfPrecip.drop([0,120])\n",
    "dfPrecip.tail()"
   ]
  },
  {
   "cell_type": "code",
   "execution_count": 22,
   "metadata": {},
   "outputs": [
    {
     "data": {
      "text/html": [
       "<div>\n",
       "<style scoped>\n",
       "    .dataframe tbody tr th:only-of-type {\n",
       "        vertical-align: middle;\n",
       "    }\n",
       "\n",
       "    .dataframe tbody tr th {\n",
       "        vertical-align: top;\n",
       "    }\n",
       "\n",
       "    .dataframe thead th {\n",
       "        text-align: right;\n",
       "    }\n",
       "</style>\n",
       "<table border=\"1\" class=\"dataframe\">\n",
       "  <thead>\n",
       "    <tr style=\"text-align: right;\">\n",
       "      <th></th>\n",
       "      <th>Year</th>\n",
       "      <th>JAN</th>\n",
       "      <th>FEB</th>\n",
       "      <th>MAR</th>\n",
       "      <th>APR</th>\n",
       "      <th>MAY</th>\n",
       "      <th>JUN</th>\n",
       "      <th>JUL</th>\n",
       "      <th>AUG</th>\n",
       "      <th>SEP</th>\n",
       "      <th>OCT</th>\n",
       "      <th>NOV</th>\n",
       "      <th>DEC</th>\n",
       "      <th>YEAR TOTAL</th>\n",
       "    </tr>\n",
       "  </thead>\n",
       "  <tbody>\n",
       "    <tr>\n",
       "      <th>0</th>\n",
       "      <td>1900</td>\n",
       "      <td>0.40</td>\n",
       "      <td>1.06</td>\n",
       "      <td>0.75</td>\n",
       "      <td>9.18</td>\n",
       "      <td>1.84</td>\n",
       "      <td>0.49</td>\n",
       "      <td>0.48</td>\n",
       "      <td>0.22</td>\n",
       "      <td>1.54</td>\n",
       "      <td>0.13</td>\n",
       "      <td>0.19</td>\n",
       "      <td>0.61</td>\n",
       "      <td>16.89</td>\n",
       "    </tr>\n",
       "    <tr>\n",
       "      <th>1</th>\n",
       "      <td>1901</td>\n",
       "      <td>0.53</td>\n",
       "      <td>0.30</td>\n",
       "      <td>1.74</td>\n",
       "      <td>3.51</td>\n",
       "      <td>1.62</td>\n",
       "      <td>1.76</td>\n",
       "      <td>0.46</td>\n",
       "      <td>1.69</td>\n",
       "      <td>0.16</td>\n",
       "      <td>0.65</td>\n",
       "      <td>0.00</td>\n",
       "      <td>1.43</td>\n",
       "      <td>13.85</td>\n",
       "    </tr>\n",
       "    <tr>\n",
       "      <th>2</th>\n",
       "      <td>1902</td>\n",
       "      <td>0.37</td>\n",
       "      <td>0.48</td>\n",
       "      <td>1.48</td>\n",
       "      <td>1.01</td>\n",
       "      <td>2.32</td>\n",
       "      <td>1.46</td>\n",
       "      <td>1.26</td>\n",
       "      <td>0.53</td>\n",
       "      <td>5.46</td>\n",
       "      <td>1.44</td>\n",
       "      <td>1.29</td>\n",
       "      <td>1.34</td>\n",
       "      <td>18.44</td>\n",
       "    </tr>\n",
       "    <tr>\n",
       "      <th>3</th>\n",
       "      <td>1903</td>\n",
       "      <td>0.08</td>\n",
       "      <td>1.52</td>\n",
       "      <td>1.45</td>\n",
       "      <td>2.31</td>\n",
       "      <td>2.02</td>\n",
       "      <td>1.87</td>\n",
       "      <td>0.95</td>\n",
       "      <td>1.46</td>\n",
       "      <td>1.31</td>\n",
       "      <td>3.43</td>\n",
       "      <td>0.15</td>\n",
       "      <td>0.16</td>\n",
       "      <td>16.71</td>\n",
       "    </tr>\n",
       "    <tr>\n",
       "      <th>4</th>\n",
       "      <td>1904</td>\n",
       "      <td>0.09</td>\n",
       "      <td>0.31</td>\n",
       "      <td>2.37</td>\n",
       "      <td>1.45</td>\n",
       "      <td>5.35</td>\n",
       "      <td>2.72</td>\n",
       "      <td>1.05</td>\n",
       "      <td>1.00</td>\n",
       "      <td>1.60</td>\n",
       "      <td>1.06</td>\n",
       "      <td>0.08</td>\n",
       "      <td>0.70</td>\n",
       "      <td>17.78</td>\n",
       "    </tr>\n",
       "  </tbody>\n",
       "</table>\n",
       "</div>"
      ],
      "text/plain": [
       "   Year   JAN   FEB   MAR   APR   MAY   JUN   JUL   AUG   SEP   OCT   NOV  \\\n",
       "0  1900  0.40  1.06  0.75  9.18  1.84  0.49  0.48  0.22  1.54  0.13  0.19   \n",
       "1  1901  0.53  0.30  1.74  3.51  1.62  1.76  0.46  1.69  0.16  0.65  0.00   \n",
       "2  1902  0.37  0.48  1.48  1.01  2.32  1.46  1.26  0.53  5.46  1.44  1.29   \n",
       "3  1903  0.08  1.52  1.45  2.31  2.02  1.87  0.95  1.46  1.31  3.43  0.15   \n",
       "4  1904  0.09  0.31  2.37  1.45  5.35  2.72  1.05  1.00  1.60  1.06  0.08   \n",
       "\n",
       "    DEC YEAR TOTAL  \n",
       "0  0.61      16.89  \n",
       "1  1.43      13.85  \n",
       "2  1.34      18.44  \n",
       "3  0.16      16.71  \n",
       "4  0.70      17.78  "
      ]
     },
     "execution_count": 22,
     "metadata": {},
     "output_type": "execute_result"
    }
   ],
   "source": [
    "#dfPrecip[\"YEAR TOTAL\"] = pd.to_numeric(dfPrecip[\"YEAR TOTAL\"])\n",
    "#this was painful\n",
    "#saw someone's Piazza post where they got the same errors, turns out it was because there are different data types \n",
    "#in the columns \n",
    "#so this is my drawn out and not very efficient solution\n",
    "\n",
    "dfPrecip[\"JAN\"] = pd.to_numeric(dfPrecip[\"JAN\"])\n",
    "dfPrecip[\"FEB\"] = pd.to_numeric(dfPrecip[\"FEB\"])\n",
    "dfPrecip[\"MAR\"] = pd.to_numeric(dfPrecip[\"MAR\"])\n",
    "dfPrecip[\"APR\"] = pd.to_numeric(dfPrecip[\"APR\"])\n",
    "dfPrecip[\"MAY\"] = pd.to_numeric(dfPrecip[\"MAY\"])\n",
    "dfPrecip[\"JUN\"] = pd.to_numeric(dfPrecip[\"JUN\"])\n",
    "dfPrecip[\"JUL\"] = pd.to_numeric(dfPrecip[\"JUL\"])\n",
    "dfPrecip[\"AUG\"] = pd.to_numeric(dfPrecip[\"AUG\"])\n",
    "dfPrecip[\"SEP\"] = pd.to_numeric(dfPrecip[\"SEP\"])\n",
    "dfPrecip[\"OCT\"] = pd.to_numeric(dfPrecip[\"OCT\"])\n",
    "dfPrecip[\"NOV\"] = pd.to_numeric(dfPrecip[\"NOV\"])\n",
    "dfPrecip[\"DEC\"] = pd.to_numeric(dfPrecip[\"DEC\"])\n",
    "dfPrecip[\"Year\"] = pd.to_numeric(dfPrecip[\"Year\"])\n",
    "dfPrecip.head()"
   ]
  },
  {
   "cell_type": "markdown",
   "metadata": {},
   "source": [
    "**Part B:** Generate a series of 12 box plots with month as the x axis and precipitation on the y-axis."
   ]
  },
  {
   "cell_type": "code",
   "execution_count": 12,
   "metadata": {},
   "outputs": [
    {
     "data": {
      "text/plain": [
       "Text(0.5, 1.0, 'Precipitation by Month')"
      ]
     },
     "execution_count": 12,
     "metadata": {},
     "output_type": "execute_result"
    },
    {
     "data": {
      "image/png": "[encoded data removed]",
      "text/plain": [
       "<Figure size 432x288 with 1 Axes>"
      ]
     },
     "metadata": {
      "needs_background": "light"
     },
     "output_type": "display_data"
    }
   ],
   "source": [
    "#Your code here\n",
    "all_year = dfPrecip.boxplot(column=['JAN', 'FEB', 'MAR', 'APR', 'MAY', 'JUN', 'JUL', 'AUG', 'SEP', 'OCT', 'NOV', 'DEC'])\n",
    "all_year.set_ylabel(\"Precipitation\")\n",
    "all_year.set_xlabel(\"Month\")\n",
    "all_year.set_title(\"Precipitation by Month\")"
   ]
  },
  {
   "cell_type": "markdown",
   "metadata": {},
   "source": [
    "\n",
    "**Part C:** Spring is the wet season in Boulder.   But what is Spring?\n",
    "\n",
    "Atmospheric scientists love to group months seasonally, breaking the year into a Winter season including December, January, February; a Spring including March, April, and May; and so forth.\n",
    "\n",
    "The solar year, however, says that Spring runs from near the end of March until near the end of June: let's round at the nearest month and say that it includes the months of April, May and June.\n",
    "\n",
    "Generate a box plot with precipitation on the y-axis and the two possible monthly 'Spring' groupings (March-May versus April-June) as the x-axis."
   ]
  },
  {
   "cell_type": "code",
   "execution_count": 23,
   "metadata": {},
   "outputs": [
    {
     "data": {
      "text/plain": [
       "Text(0.5, 1.0, 'Precipitation by Spring Grouping')"
      ]
     },
     "execution_count": 23,
     "metadata": {},
     "output_type": "execute_result"
    },
    {
     "data": {
      "image/png": "[encoded data removed]",
      "text/plain": [
       "<Figure size 432x288 with 1 Axes>"
      ]
     },
     "metadata": {
      "needs_background": "light"
     },
     "output_type": "display_data"
    }
   ],
   "source": [
    "#Your code here\n",
    "dfPrecip[\"SPRING\"] = dfPrecip[\"MAR\"] + dfPrecip[\"APR\"] + dfPrecip[\"MAY\"]\n",
    "#dfPrecip.boxplot(column=['SPRING'])\n",
    "dfPrecip[\"SPRING_SOLAR\"] = dfPrecip[\"APR\"] + dfPrecip[\"MAY\"] + dfPrecip[\"JUN\"]\n",
    "boxplot = dfPrecip.boxplot(column=['SPRING', 'SPRING_SOLAR'])\n",
    "boxplot.set_ylabel(\"Precipitation\")\n",
    "boxplot.set_xlabel(\"Spring\")\n",
    "boxplot.set_title(\"Precipitation by Spring Grouping\")\n",
    "#referenced this to create groupings: https://stackoverflow.com/questions/19377969/combine-two-columns-of-text-in-pandas-dataframe"
   ]
  },
  {
   "cell_type": "markdown",
   "metadata": {},
   "source": [
    "**Part D:** These might look pretty similar!  Highlight and comment on any differences by calculating the mean, standard deviation, and a Tukey five number summary of each classification of Spring.  Is there a reason here to favor one grouping over the other?"
   ]
  },
  {
   "cell_type": "code",
   "execution_count": 24,
   "metadata": {},
   "outputs": [
    {
     "name": "stdout",
     "output_type": "stream",
     "text": [
      "The mean for the March-May grouping is 7.5258677685950435\n",
      "The standard deviation for the March-May grouping is 2.7269475210148704\n",
      "\n",
      "The mean for the April-June grouping is 7.68099173553719\n",
      "The standard deviation for the April-June grouping is 2.9275944063794874\n"
     ]
    }
   ],
   "source": [
    "#for the SPRING (March, April, May) grouping:\n",
    "print('The mean for the March-May grouping is {}'.format(dfPrecip[\"SPRING\"].mean()))\n",
    "print('The standard deviation for the March-May grouping is {}'.format(np.std(dfPrecip[\"SPRING\"], ddof=1)))\n",
    "print()\n",
    "#for the SPRING_SOLAR (April, May, June) grouping:\n",
    "print('The mean for the April-June grouping is {}'.format(dfPrecip[\"SPRING_SOLAR\"].mean()))\n",
    "print('The standard deviation for the April-June grouping is {}'.format(np.std(dfPrecip[\"SPRING_SOLAR\"], ddof=1)))"
   ]
  },
  {
   "cell_type": "markdown",
   "metadata": {},
   "source": [
    "**For the March-May grouping:**\n",
    "\n",
    "mean: 7.5258677685950435\n",
    "\n",
    "standard deviation: 2.7269475210148704\n",
    "\n",
    "**For the April-June grouping:**\n",
    "\n",
    "mean: 7.68099173553719\n",
    "\n",
    "standard deviation: 2.9275944063794874"
   ]
  },
  {
   "cell_type": "code",
   "execution_count": 25,
   "metadata": {},
   "outputs": [
    {
     "name": "stdout",
     "output_type": "stream",
     "text": [
      "The maximum for the March-May grouping is 16.75\n",
      "The minimum for the March-May grouping is 2.21\n",
      "The median for the March-May grouping is 7.11\n",
      "The first quantile of the March-May grouping is:  5.6\n",
      "The third quantile of the March-May grouping is:  9.17\n",
      "\n",
      "The maximum for the April-June grouping is 19.07\n",
      "The minimum for the April-June grouping is 3.12\n",
      "The median for the April-June grouping is 7.38\n",
      "The first quantile of the April-June grouping is:  5.23\n",
      "The third quantile of the April-June grouping is:  9.469999999999999\n"
     ]
    }
   ],
   "source": [
    "#five number summaries for March-May grouping:\n",
    "maximum = dfPrecip[\"SPRING\"].max()\n",
    "print('The maximum for the March-May grouping is {}'.format(maximum))\n",
    "minimum = dfPrecip[\"SPRING\"].min()\n",
    "print('The minimum for the March-May grouping is {}'.format(minimum))\n",
    "median = dfPrecip[\"SPRING\"].median()\n",
    "print('The median for the March-May grouping is {}'.format(median))\n",
    "print(\"The first quantile of the March-May grouping is: \", np.quantile(dfPrecip[\"SPRING\"], .25))\n",
    "print(\"The third quantile of the March-May grouping is: \", np.quantile(dfPrecip[\"SPRING\"], .75))\n",
    "print()\n",
    "\n",
    "\n",
    "#five number summaries for the April-June grouping:\n",
    "maximum = dfPrecip[\"SPRING_SOLAR\"].max()\n",
    "print('The maximum for the April-June grouping is {}'.format(maximum))\n",
    "minimum = dfPrecip[\"SPRING_SOLAR\"].min()\n",
    "print('The minimum for the April-June grouping is {}'.format(minimum))\n",
    "median = dfPrecip[\"SPRING_SOLAR\"].median()\n",
    "print('The median for the April-June grouping is {}'.format(median))\n",
    "print(\"The first quantile of the April-June grouping is: \", np.quantile(dfPrecip[\"SPRING_SOLAR\"], .25))\n",
    "print(\"The third quantile of the April-June grouping is: \", np.quantile(dfPrecip[\"SPRING_SOLAR\"], .75))\n",
    "\n",
    "#Reference for calculating quantiles: https://www.geeksforgeeks.org/numpy-quantile-in-python/"
   ]
  },
  {
   "cell_type": "markdown",
   "metadata": {},
   "source": [
    "**Here's the March-May group five-number summary:** \n",
    "\n",
    "maximum: 16.75\n",
    "\n",
    "minimum: 2.21\n",
    "\n",
    "median: 7.11\n",
    "\n",
    "first quantile:  5.6\n",
    "\n",
    "third quantile:  9.17\n",
    "\n",
    "**Here's the April-June group five-number summary:**\n",
    "\n",
    "maximum: 19.07\n",
    "\n",
    "minimum: 3.12\n",
    "\n",
    "median: 7.38\n",
    "\n",
    "first quantile:  5.23\n",
    "\n",
    "third quantile:  9.469999999999999"
   ]
  },
  {
   "cell_type": "markdown",
   "metadata": {},
   "source": [
    "I would favor the April-June grouping over the March-May one because the April-June grouping has a higher mean and higher maximum for precipitation, which we want to use because Spring is the wettest season of the year, and it makes more sense to choose data that correlates with that statement more. "
   ]
  },
  {
   "cell_type": "markdown",
   "metadata": {},
   "source": [
    "**Part E:** Create a density histogram of the September precipitation.  Classify and describe this histogram, including discussion of any skewness, multimodality, or outliers.  Find the data point associated with September, 2013, and recreate your histogram with that value in a different color or otherwise clearly marked."
   ]
  },
  {
   "cell_type": "code",
   "execution_count": 26,
   "metadata": {},
   "outputs": [
    {
     "data": {
      "text/plain": [
       "Text(0, 0.5, 'Number of times')"
      ]
     },
     "execution_count": 26,
     "metadata": {},
     "output_type": "execute_result"
    },
    {
     "data": {
      "image/png": "[encoded data removed]",
      "text/plain": [
       "<Figure size 576x288 with 1 Axes>"
      ]
     },
     "metadata": {
      "needs_background": "light"
     },
     "output_type": "display_data"
    }
   ],
   "source": [
    "fig, ax = plt.subplots(figsize=(8,4))\n",
    "sept = dfPrecip.hist(column=\"SEP\", ax=ax, bins=100);\n",
    "plt.title('Precipitation for the Month of September')\n",
    "plt.xlabel('Precipitation')\n",
    "plt.ylabel('Number of times')\n",
    "#Used this to figure out how to label histograms: https://medium.com/python-pandemonium/data-visualization-in-python-histogram-in-matplotlib-dce38f49f89c"
   ]
  },
  {
   "cell_type": "markdown",
   "metadata": {},
   "source": [
    "This is a density histogram, which means that the values are counted in each bin and the height is adjusted so that the sum of the areas of all of the bins is equal to 1. This histogram is right-skewed (also called positively-skewed), meaning the mode is the highest part of the graph, and the median and the mean fall to the right of that peak. The outlier in this data is the point all the way to the left, which turns out to be data from September 2013, equal to 18.16 (found by calculating the maximum point of the dataset). This is a unimodal distribution, which has one local maximum.  \n",
    "\n",
    "\n",
    "\n"
   ]
  },
  {
   "cell_type": "code",
   "execution_count": 27,
   "metadata": {},
   "outputs": [
    {
     "data": {
      "image/png": "[encoded data removed]",
      "text/plain": [
       "<Figure size 576x288 with 1 Axes>"
      ]
     },
     "metadata": {
      "needs_background": "light"
     },
     "output_type": "display_data"
    }
   ],
   "source": [
    "fig, ax = plt.subplots(figsize=(8,4))\n",
    "mycolor =np.array([230,30,130])/255\n",
    "\n",
    "\n",
    "dfPrecip.hist(column=\"SEP\", ax=ax, bins=100, edgecolor=\"white\");\n",
    "dfPrecip.loc[dfPrecip[\"Year\"]== 2013].hist(column=\"SEP\", ax=ax, bins = 3, facecolor=mycolor, edgecolor=\"white\")\n",
    "\n",
    "\n",
    "#ax.grid(alpha=0.85)\n",
    "#ax.set_axisbelow(True)\n",
    "#axes[0]plt.title('Precipitation for the Month of September')\n",
    "#plt.xlabel('Precipitation')\n",
    "#plt.ylabel('Number of times')\n",
    "\n",
    "#dfPrecip.loc[dfPrecip[\"Year\"]== 2013].hist(column=\"SEP\", ax=axes, bins = 3, facecolor=mycolor, edgecolor=\"white\")\n",
    "plt.title('Precipitation for the Month of September')\n",
    "plt.xlabel('Precipitation')\n",
    "plt.ylabel('Frequency')\n",
    "\n",
    "ax.grid(alpha=0.85)\n",
    "ax.set_axisbelow(True)\n",
    "\n",
    "#axes[0].set_xlim([0,20])\n",
    "#axes[1].set_xlim([0,20])\n",
    "#axes[0].set_ylim([0,13])\n",
    "#axes[1].set_ylim([0,13]);"
   ]
  }
 ],
 "metadata": {
  "kernelspec": {
   "display_name": "Python 3",
   "language": "python",
   "name": "python3"
  },
  "language_info": {
   "codemirror_mode": {
    "name": "ipython",
    "version": 3
   },
   "file_extension": ".py",
   "mimetype": "text/x-python",
   "name": "python",
   "nbconvert_exporter": "python",
   "pygments_lexer": "ipython3",
   "version": "3.8.3"
  }
 },
 "nbformat": 4,
 "nbformat_minor": 2
}
